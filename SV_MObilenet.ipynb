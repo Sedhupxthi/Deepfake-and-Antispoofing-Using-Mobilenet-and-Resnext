{
 "cells": [
  {
   "cell_type": "code",
   "execution_count": 2,
   "id": "bc3f508c-d4d2-4d8a-86aa-855f87e16042",
   "metadata": {},
   "outputs": [
    {
     "name": "stdout",
     "output_type": "stream",
     "text": [
      "      filename label\n",
      "0      000.mp4  REAL\n",
      "1  000_003.mp4  FAKE\n",
      "2      001.mp4  REAL\n",
      "3  001_870.mp4  FAKE\n",
      "4      002.mp4  REAL\n"
     ]
    }
   ],
   "source": [
    "import pandas as pd\n",
    "\n",
    "# Load the CSV file\n",
    "# Assuming the CSV is named 'labels.csv' and has no header row\n",
    "df = pd.read_csv(r\"C:\\Users\\shubh\\Downloads\\Gobal_metadata (1).csv\", names=['filename', 'label'], header=None)\n",
    "\n",
    "# Check the first few rows to confirm it's loaded correctly\n",
    "print(df.head())\n"
   ]
  },
  {
   "cell_type": "code",
   "execution_count": 3,
   "id": "6b7b41e2-58e4-4769-af52-09371ddd82ce",
   "metadata": {},
   "outputs": [],
   "source": [
    "import glob\n",
    "import torch\n",
    "import torchvision\n",
    "from torchvision import transforms\n",
    "from torch.utils.data import DataLoader\n",
    "from torch.utils.data.dataset import Dataset\n",
    "import os\n",
    "import numpy as np\n",
    "import cv2\n",
    "import matplotlib.pyplot as plt"
   ]
  },
  {
   "cell_type": "code",
   "execution_count": null,
   "id": "4a849f2d-7152-44a9-841f-de1c11eeba72",
   "metadata": {},
   "outputs": [],
   "source": [
    "#Check if the file is corrupted or not\n",
    "def validate_video(vid_path,train_transforms):\n",
    "      transform = train_transforms\n",
    "      count = 20\n",
    "      video_path = vid_path\n",
    "      frames = []\n",
    "      a = int(100/count)\n",
    "      first_frame = np.random.randint(0,a)\n",
    "      temp_video = video_path.split('/')[-1]\n",
    "      for i,frame in enumerate(frame_extract(video_path)):\n",
    "        frames.append(transform(frame))\n",
    "        if(len(frames) == count):\n",
    "          break\n",
    "      frames = torch.stack(frames)\n",
    "      frames = frames[:count]\n",
    "      return frames#extract a from from video\n",
    "def frame_extract(path):\n",
    "  vidObj = cv2.VideoCapture(path)\n",
    "  success = 1\n",
    "  while success:\n",
    "      success, image = vidObj.read()\n",
    "      if success:\n",
    "          yield image"
   ]
  },
  {
   "cell_type": "code",
   "execution_count": null,
   "id": "e808471b-e6ae-4931-90a2-b84cb27f1ceb",
   "metadata": {},
   "outputs": [],
   "source": [
    "im_size = 112\n",
    "mean = [0.485, 0.456, 0.406]\n",
    "std = [0.229, 0.224, 0.225]\n",
    "video_fil = []"
   ]
  },
  {
   "cell_type": "code",
   "execution_count": null,
   "id": "33e3daff-27c0-4b8c-935f-712782635177",
   "metadata": {},
   "outputs": [],
   "source": [
    "train_transforms = transforms.Compose([\n",
    "                                        transforms.ToPILImage(),\n",
    "                                        transforms.Resize((im_size,im_size)),\n",
    "                                        transforms.ToTensor(),\n",
    "                                        transforms.Normalize(mean,std)])\n",
    "video_fil += glob.glob('\"D:\\Qriocity\\Secure Vision\\Dataset\\DFDC_FAKE_Face_only_data\"\\*.mp4')\n",
    "video_fil += glob.glob('/content/drive/MyDrive/Secure Vision/DFDC_FAKE_Face_only_data/*.mp4')\n",
    "print(\"Total no of videos :\" , len(video_fil))\n",
    "print(video_fil)"
   ]
  },
  {
   "cell_type": "code",
   "execution_count": null,
   "id": "01dc2b84-8ec5-49a6-9800-6e6a8b0158e8",
   "metadata": {},
   "outputs": [],
   "source": []
  },
  {
   "cell_type": "code",
   "execution_count": null,
   "id": "a014056d-2dac-4206-861d-e7180bb685c7",
   "metadata": {},
   "outputs": [],
   "source": []
  }
 ],
 "metadata": {
  "kernelspec": {
   "display_name": "Python 3 (ipykernel)",
   "language": "python",
   "name": "python3"
  },
  "language_info": {
   "codemirror_mode": {
    "name": "ipython",
    "version": 3
   },
   "file_extension": ".py",
   "mimetype": "text/x-python",
   "name": "python",
   "nbconvert_exporter": "python",
   "pygments_lexer": "ipython3",
   "version": "3.11.8"
  }
 },
 "nbformat": 4,
 "nbformat_minor": 5
}
